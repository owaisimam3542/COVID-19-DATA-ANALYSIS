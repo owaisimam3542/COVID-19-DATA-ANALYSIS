{
 "cells": [
  {
   "cell_type": "markdown",
   "metadata": {},
   "source": [
    "# 2. Acquire the Data\n",
    "\n",
    "## Finding Data Sources\n",
    "\n",
    "**(https://datascience.nih.gov/covid-19-open-access-resources)**The Office of Data Science Strategy seeks to provide the research community with links to open-access data, computational, and supporting resources. These resources are being aggregated and posted for scientific and public health interests. Inclusion of a resource on this list does not mean it has been evaluated or endorsed by NIH.\n",
    "## Scraping the Data\n",
    "\n",
    "\n",
    "### Ways to Scrape Data\n",
    "\n",
    "1.Access to Datasets\n",
    "Get immediate access to existing datasets.\n",
    "\n",
    "2.Quality & Accurate Data for Research\n",
    "Accurate data that researchers can rely on.\n",
    "\n",
    "3.Fast Access Public Web Data\n",
    "Gather data from millions of public web pages, such as research publications, news articles, & social media.\n",
    "\n",
    "\n"
   ]
  },
  {
   "cell_type": "code",
   "execution_count": 1,
   "metadata": {},
   "outputs": [],
   "source": [
    "import pandas as pd\n",
    "df_covid=pd.read_csv(\"C:\\\\Users\\hp\\Downloads\\COVID1.csv\")"
   ]
  },
  {
   "cell_type": "code",
   "execution_count": 3,
   "metadata": {},
   "outputs": [
    {
     "data": {
      "text/plain": [
       "1085"
      ]
     },
     "execution_count": 3,
     "metadata": {},
     "output_type": "execute_result"
    }
   ],
   "source": [
    "len(df_covid)"
   ]
  },
  {
   "cell_type": "code",
   "execution_count": 4,
   "metadata": {},
   "outputs": [
    {
     "data": {
      "text/plain": [
       "pandas.core.frame.DataFrame"
      ]
     },
     "execution_count": 4,
     "metadata": {},
     "output_type": "execute_result"
    }
   ],
   "source": [
    "type(df_covid)"
   ]
  },
  {
   "cell_type": "code",
   "execution_count": 5,
   "metadata": {},
   "outputs": [
    {
     "data": {
      "text/plain": [
       "(1085, 27)"
      ]
     },
     "execution_count": 5,
     "metadata": {},
     "output_type": "execute_result"
    }
   ],
   "source": [
    "df_covid.shape"
   ]
  },
  {
   "cell_type": "code",
   "execution_count": 6,
   "metadata": {},
   "outputs": [],
   "source": [
    "pd.set_option(\"display.max.columns\", None)"
   ]
  },
  {
   "cell_type": "code",
   "execution_count": 8,
   "metadata": {},
   "outputs": [],
   "source": [
    "pd.set_option(\"display.precision\", 2)"
   ]
  },
  {
   "cell_type": "code",
   "execution_count": 9,
   "metadata": {},
   "outputs": [
    {
     "data": {
      "text/html": [
       "<div>\n",
       "<style scoped>\n",
       "    .dataframe tbody tr th:only-of-type {\n",
       "        vertical-align: middle;\n",
       "    }\n",
       "\n",
       "    .dataframe tbody tr th {\n",
       "        vertical-align: top;\n",
       "    }\n",
       "\n",
       "    .dataframe thead th {\n",
       "        text-align: right;\n",
       "    }\n",
       "</style>\n",
       "<table border=\"1\" class=\"dataframe\">\n",
       "  <thead>\n",
       "    <tr style=\"text-align: right;\">\n",
       "      <th></th>\n",
       "      <th>id</th>\n",
       "      <th>case_in_country</th>\n",
       "      <th>reporting date</th>\n",
       "      <th>Unnamed: 3</th>\n",
       "      <th>summary</th>\n",
       "      <th>location</th>\n",
       "      <th>country</th>\n",
       "      <th>gender</th>\n",
       "      <th>age</th>\n",
       "      <th>symptom_onset</th>\n",
       "      <th>If_onset_approximated</th>\n",
       "      <th>hosp_visit_date</th>\n",
       "      <th>exposure_start</th>\n",
       "      <th>exposure_end</th>\n",
       "      <th>visiting Wuhan</th>\n",
       "      <th>from Wuhan</th>\n",
       "      <th>death</th>\n",
       "      <th>recovered</th>\n",
       "      <th>symptom</th>\n",
       "      <th>source</th>\n",
       "      <th>link</th>\n",
       "      <th>Unnamed: 21</th>\n",
       "      <th>Unnamed: 22</th>\n",
       "      <th>Unnamed: 23</th>\n",
       "      <th>Unnamed: 24</th>\n",
       "      <th>Unnamed: 25</th>\n",
       "      <th>Unnamed: 26</th>\n",
       "    </tr>\n",
       "  </thead>\n",
       "  <tbody>\n",
       "    <tr>\n",
       "      <th>1080</th>\n",
       "      <td>1081</td>\n",
       "      <td>2.0</td>\n",
       "      <td>2/25/2020</td>\n",
       "      <td>NaN</td>\n",
       "      <td>new COVID-19 patient confirmed in Austria: 24,...</td>\n",
       "      <td>Innsbruck</td>\n",
       "      <td>Austria</td>\n",
       "      <td>NaN</td>\n",
       "      <td>24.0</td>\n",
       "      <td>NaN</td>\n",
       "      <td>NaN</td>\n",
       "      <td>NaN</td>\n",
       "      <td>NaN</td>\n",
       "      <td>NaN</td>\n",
       "      <td>0</td>\n",
       "      <td>0.0</td>\n",
       "      <td>0</td>\n",
       "      <td>0</td>\n",
       "      <td>NaN</td>\n",
       "      <td>Jakarta Post</td>\n",
       "      <td>https://www.thejakartapost.com/news/2020/02/25...</td>\n",
       "      <td>NaN</td>\n",
       "      <td>NaN</td>\n",
       "      <td>NaN</td>\n",
       "      <td>NaN</td>\n",
       "      <td>NaN</td>\n",
       "      <td>NaN</td>\n",
       "    </tr>\n",
       "    <tr>\n",
       "      <th>1081</th>\n",
       "      <td>1082</td>\n",
       "      <td>1.0</td>\n",
       "      <td>2/24/2020</td>\n",
       "      <td>NaN</td>\n",
       "      <td>new COVID-19 patient confirmed in Afghanistan:...</td>\n",
       "      <td>Afghanistan</td>\n",
       "      <td>Afghanistan</td>\n",
       "      <td>NaN</td>\n",
       "      <td>35.0</td>\n",
       "      <td>NaN</td>\n",
       "      <td>NaN</td>\n",
       "      <td>NaN</td>\n",
       "      <td>NaN</td>\n",
       "      <td>NaN</td>\n",
       "      <td>0</td>\n",
       "      <td>0.0</td>\n",
       "      <td>0</td>\n",
       "      <td>0</td>\n",
       "      <td>NaN</td>\n",
       "      <td>Fox News</td>\n",
       "      <td>https://www.foxnews.com/health/afghanistan-fir...</td>\n",
       "      <td>NaN</td>\n",
       "      <td>NaN</td>\n",
       "      <td>NaN</td>\n",
       "      <td>NaN</td>\n",
       "      <td>NaN</td>\n",
       "      <td>NaN</td>\n",
       "    </tr>\n",
       "    <tr>\n",
       "      <th>1082</th>\n",
       "      <td>1083</td>\n",
       "      <td>1.0</td>\n",
       "      <td>2/26/2020</td>\n",
       "      <td>NaN</td>\n",
       "      <td>new COVID-19 patient confirmed in Algeria: mal...</td>\n",
       "      <td>Algeria</td>\n",
       "      <td>Algeria</td>\n",
       "      <td>male</td>\n",
       "      <td>NaN</td>\n",
       "      <td>NaN</td>\n",
       "      <td>NaN</td>\n",
       "      <td>NaN</td>\n",
       "      <td>NaN</td>\n",
       "      <td>2/17/2020</td>\n",
       "      <td>0</td>\n",
       "      <td>0.0</td>\n",
       "      <td>0</td>\n",
       "      <td>0</td>\n",
       "      <td>NaN</td>\n",
       "      <td>South China Morning Post</td>\n",
       "      <td>https://www.scmp.com/news/china/society/articl...</td>\n",
       "      <td>NaN</td>\n",
       "      <td>NaN</td>\n",
       "      <td>NaN</td>\n",
       "      <td>NaN</td>\n",
       "      <td>NaN</td>\n",
       "      <td>NaN</td>\n",
       "    </tr>\n",
       "    <tr>\n",
       "      <th>1083</th>\n",
       "      <td>1084</td>\n",
       "      <td>1.0</td>\n",
       "      <td>2/25/2020</td>\n",
       "      <td>NaN</td>\n",
       "      <td>new COVID-19 patient confirmed in Croatia: mal...</td>\n",
       "      <td>Croatia</td>\n",
       "      <td>Croatia</td>\n",
       "      <td>male</td>\n",
       "      <td>NaN</td>\n",
       "      <td>NaN</td>\n",
       "      <td>NaN</td>\n",
       "      <td>NaN</td>\n",
       "      <td>2/19/2020</td>\n",
       "      <td>2/21/2020</td>\n",
       "      <td>0</td>\n",
       "      <td>0.0</td>\n",
       "      <td>0</td>\n",
       "      <td>0</td>\n",
       "      <td>NaN</td>\n",
       "      <td>Reuters</td>\n",
       "      <td>https://www.reuters.com/article/us-croatia-cor...</td>\n",
       "      <td>NaN</td>\n",
       "      <td>NaN</td>\n",
       "      <td>NaN</td>\n",
       "      <td>NaN</td>\n",
       "      <td>NaN</td>\n",
       "      <td>NaN</td>\n",
       "    </tr>\n",
       "    <tr>\n",
       "      <th>1084</th>\n",
       "      <td>1085</td>\n",
       "      <td>1.0</td>\n",
       "      <td>2/25/2020</td>\n",
       "      <td>NaN</td>\n",
       "      <td>new COVID-19 patient confirmed in Switzerland:...</td>\n",
       "      <td>Bern</td>\n",
       "      <td>Switzerland</td>\n",
       "      <td>male</td>\n",
       "      <td>70.0</td>\n",
       "      <td>2/17/2020</td>\n",
       "      <td>NaN</td>\n",
       "      <td>NaN</td>\n",
       "      <td>2/15/2020</td>\n",
       "      <td>2/15/2020</td>\n",
       "      <td>0</td>\n",
       "      <td>0.0</td>\n",
       "      <td>0</td>\n",
       "      <td>0</td>\n",
       "      <td>NaN</td>\n",
       "      <td>Reuters</td>\n",
       "      <td>https://www.reuters.com/article/uk-switzerland...</td>\n",
       "      <td>NaN</td>\n",
       "      <td>NaN</td>\n",
       "      <td>NaN</td>\n",
       "      <td>NaN</td>\n",
       "      <td>NaN</td>\n",
       "      <td>NaN</td>\n",
       "    </tr>\n",
       "  </tbody>\n",
       "</table>\n",
       "</div>"
      ],
      "text/plain": [
       "        id  case_in_country reporting date  Unnamed: 3  \\\n",
       "1080  1081              2.0      2/25/2020         NaN   \n",
       "1081  1082              1.0      2/24/2020         NaN   \n",
       "1082  1083              1.0      2/26/2020         NaN   \n",
       "1083  1084              1.0      2/25/2020         NaN   \n",
       "1084  1085              1.0      2/25/2020         NaN   \n",
       "\n",
       "                                                summary     location  \\\n",
       "1080  new COVID-19 patient confirmed in Austria: 24,...    Innsbruck   \n",
       "1081  new COVID-19 patient confirmed in Afghanistan:...  Afghanistan   \n",
       "1082  new COVID-19 patient confirmed in Algeria: mal...      Algeria   \n",
       "1083  new COVID-19 patient confirmed in Croatia: mal...      Croatia   \n",
       "1084  new COVID-19 patient confirmed in Switzerland:...         Bern   \n",
       "\n",
       "          country gender   age symptom_onset  If_onset_approximated  \\\n",
       "1080      Austria    NaN  24.0           NaN                    NaN   \n",
       "1081  Afghanistan    NaN  35.0           NaN                    NaN   \n",
       "1082      Algeria   male   NaN           NaN                    NaN   \n",
       "1083      Croatia   male   NaN           NaN                    NaN   \n",
       "1084  Switzerland   male  70.0     2/17/2020                    NaN   \n",
       "\n",
       "     hosp_visit_date exposure_start exposure_end  visiting Wuhan  from Wuhan  \\\n",
       "1080             NaN            NaN          NaN               0         0.0   \n",
       "1081             NaN            NaN          NaN               0         0.0   \n",
       "1082             NaN            NaN    2/17/2020               0         0.0   \n",
       "1083             NaN      2/19/2020    2/21/2020               0         0.0   \n",
       "1084             NaN      2/15/2020    2/15/2020               0         0.0   \n",
       "\n",
       "     death recovered symptom                    source  \\\n",
       "1080     0         0     NaN              Jakarta Post   \n",
       "1081     0         0     NaN                  Fox News   \n",
       "1082     0         0     NaN  South China Morning Post   \n",
       "1083     0         0     NaN                   Reuters   \n",
       "1084     0         0     NaN                   Reuters   \n",
       "\n",
       "                                                   link  Unnamed: 21  \\\n",
       "1080  https://www.thejakartapost.com/news/2020/02/25...          NaN   \n",
       "1081  https://www.foxnews.com/health/afghanistan-fir...          NaN   \n",
       "1082  https://www.scmp.com/news/china/society/articl...          NaN   \n",
       "1083  https://www.reuters.com/article/us-croatia-cor...          NaN   \n",
       "1084  https://www.reuters.com/article/uk-switzerland...          NaN   \n",
       "\n",
       "      Unnamed: 22  Unnamed: 23  Unnamed: 24  Unnamed: 25  Unnamed: 26  \n",
       "1080          NaN          NaN          NaN          NaN          NaN  \n",
       "1081          NaN          NaN          NaN          NaN          NaN  \n",
       "1082          NaN          NaN          NaN          NaN          NaN  \n",
       "1083          NaN          NaN          NaN          NaN          NaN  \n",
       "1084          NaN          NaN          NaN          NaN          NaN  "
      ]
     },
     "execution_count": 9,
     "metadata": {},
     "output_type": "execute_result"
    }
   ],
   "source": [
    "df_covid.tail()"
   ]
  },
  {
   "cell_type": "code",
   "execution_count": 10,
   "metadata": {},
   "outputs": [
    {
     "data": {
      "text/plain": [
       "0       Shenzhen, Guangdong\n",
       "1                  Shanghai\n",
       "2                  Zhejiang\n",
       "3                   Tianjin\n",
       "4                   Tianjin\n",
       "               ...         \n",
       "1080              Innsbruck\n",
       "1081            Afghanistan\n",
       "1082                Algeria\n",
       "1083                Croatia\n",
       "1084                   Bern\n",
       "Name: location, Length: 1085, dtype: object"
      ]
     },
     "execution_count": 10,
     "metadata": {},
     "output_type": "execute_result"
    }
   ],
   "source": [
    "df_covid['location']"
   ]
  },
  {
   "cell_type": "code",
   "execution_count": 11,
   "metadata": {},
   "outputs": [
    {
     "data": {
      "text/plain": [
       "0             China\n",
       "1             China\n",
       "2             China\n",
       "3             China\n",
       "4             China\n",
       "           ...     \n",
       "1080        Austria\n",
       "1081    Afghanistan\n",
       "1082        Algeria\n",
       "1083        Croatia\n",
       "1084    Switzerland\n",
       "Name: country, Length: 1085, dtype: object"
      ]
     },
     "execution_count": 11,
     "metadata": {},
     "output_type": "execute_result"
    }
   ],
   "source": [
    "df_covid['country']"
   ]
  },
  {
   "cell_type": "code",
   "execution_count": 12,
   "metadata": {},
   "outputs": [
    {
     "data": {
      "text/plain": [
       "0             China\n",
       "1             China\n",
       "2             China\n",
       "3             China\n",
       "4             China\n",
       "           ...     \n",
       "1080        Austria\n",
       "1081    Afghanistan\n",
       "1082        Algeria\n",
       "1083        Croatia\n",
       "1084    Switzerland\n",
       "Name: country, Length: 1085, dtype: object"
      ]
     },
     "execution_count": 12,
     "metadata": {},
     "output_type": "execute_result"
    }
   ],
   "source": [
    "df_covid.country"
   ]
  },
  {
   "cell_type": "code",
   "execution_count": 15,
   "metadata": {},
   "outputs": [
    {
     "data": {
      "text/plain": [
       "0    China\n",
       "1    China\n",
       "2    China\n",
       "3    China\n",
       "4    China\n",
       "5    China\n",
       "6    China\n",
       "7    China\n",
       "8    China\n",
       "9    China\n",
       "Name: country, dtype: object"
      ]
     },
     "execution_count": 15,
     "metadata": {},
     "output_type": "execute_result"
    }
   ],
   "source": [
    "df_covid[0:10][\"country\"]"
   ]
  },
  {
   "cell_type": "code",
   "execution_count": 16,
   "metadata": {},
   "outputs": [
    {
     "data": {
      "text/plain": [
       "0    Shenzhen, Guangdong\n",
       "1               Shanghai\n",
       "2               Zhejiang\n",
       "3                Tianjin\n",
       "4                Tianjin\n",
       "5              Chongqing\n",
       "6                Sichuan\n",
       "7                Beijing\n",
       "8                Beijing\n",
       "9                Beijing\n",
       "Name: location, dtype: object"
      ]
     },
     "execution_count": 16,
     "metadata": {},
     "output_type": "execute_result"
    }
   ],
   "source": [
    "df_covid[0:10][\"location\"]"
   ]
  },
  {
   "cell_type": "code",
   "execution_count": 20,
   "metadata": {},
   "outputs": [
    {
     "data": {
      "text/plain": [
       "0    Shenzhen, Guangdong\n",
       "1               Shanghai\n",
       "2               Zhejiang\n",
       "3                Tianjin\n",
       "4                Tianjin\n",
       "5              Chongqing\n",
       "6                Sichuan\n",
       "7                Beijing\n",
       "8                Beijing\n",
       "9                Beijing\n",
       "Name: location, dtype: object"
      ]
     },
     "execution_count": 20,
     "metadata": {},
     "output_type": "execute_result"
    }
   ],
   "source": [
    "df_covid[\"location\"][0:10]"
   ]
  },
  {
   "cell_type": "code",
   "execution_count": 18,
   "metadata": {},
   "outputs": [
    {
     "data": {
      "text/plain": [
       "array(['China', 'France', 'Japan', 'Malaysia', 'Nepal', 'Singapore',\n",
       "       'South Korea', 'Taiwan', 'Thailand', 'USA', 'Vietnam', 'Australia',\n",
       "       'Canada', 'Cambodia', 'Sri Lanka', 'Germany', 'UAE', 'Hong Kong',\n",
       "       'Italy', 'Russia', 'UK', 'India', 'Phillipines', 'Finland',\n",
       "       'Spain', 'Sweden', 'Belgium', 'Egypt', 'Iran', 'Israel', 'Lebanon',\n",
       "       'Kuwait', 'Bahrain', 'Austria', 'Afghanistan', 'Algeria',\n",
       "       'Croatia', 'Switzerland'], dtype=object)"
      ]
     },
     "execution_count": 18,
     "metadata": {},
     "output_type": "execute_result"
    }
   ],
   "source": [
    "pd.unique(df_covid['country'])"
   ]
  },
  {
   "cell_type": "code",
   "execution_count": 19,
   "metadata": {},
   "outputs": [
    {
     "data": {
      "text/plain": [
       "array(['Shenzhen, Guangdong', 'Shanghai', 'Zhejiang', 'Tianjin',\n",
       "       'Chongqing', 'Sichuan', 'Beijing', 'Shandong', 'Yunnan', 'Jiangxi',\n",
       "       'Macau', 'Liaoning', 'Fujian', 'Guizhou', 'Shanxi', 'Ningxia',\n",
       "       'Guangxi', 'Henan', 'Hebei', 'Jiangsu', 'Heilongjiang', 'Jilin',\n",
       "       'Wuhan, Hubei', 'Hunan', 'Gansu', 'Shanxi (陕西)', 'Xinjiang',\n",
       "       'Hubei', 'Inner Mongolia', 'Shaanxi', 'Hechi, Guangxi', 'Bordeaux',\n",
       "       'Paris', 'France', 'Annecy', 'Amiens', 'Strasbourg', 'Saint-Mande',\n",
       "       'Dijon', 'Lile', 'Nantes', 'Montpellier', 'Brest', 'Lyon',\n",
       "       'Bois-Guillaume', 'Nice', 'Kanagawa', 'Tokyo', 'Aichi Prefecture',\n",
       "       'Nara Prefecture', 'Hokkaido', 'Osaka Prefecture', 'Mie', 'Japan',\n",
       "       'Kyoto', 'Haneda', 'Chiba Prefecture', 'Wakayama Prefecture',\n",
       "       'Okinawa Prefecture', 'Sagamihara', 'Sapporo', 'Nagoya City',\n",
       "       'Fukuoka Prefecture', 'Ishikawa', 'Saitama Prefecture',\n",
       "       'Kumamoto City', 'Kumamoto Prefecture', 'Nagano Prefecture',\n",
       "       'Gifu Prefecture', 'Johor', 'Langkawi', 'Malaysia', 'Kathmandu',\n",
       "       'Singapore', 'South Korea', 'Seoul', 'Taiwan', 'Thailand',\n",
       "       'Washington', 'Illinois', 'California', 'Arizona', 'Massachusetts',\n",
       "       'Wisconsin', 'Texas', 'Ho Chi Minh City', 'Hanoi', 'Thanh Hoa',\n",
       "       'Vietnam', 'Vinh Phuc', 'NSW', 'Victoria', 'Queensland',\n",
       "       'South Australia', 'Toronto', 'Vancouver',\n",
       "       'Preah Sihanouk Province', 'Sri Lanka', 'Bavaria', 'Frankfurt',\n",
       "       'Baden-Wuerttemberg', 'Tubingen', 'North Rhine-Westphalia',\n",
       "       'Hamburg', 'Rhineland-Palatinate', 'Hesse', 'UAE', 'Hong Kong',\n",
       "       'Yau Ma Tei', 'Tsing Yi', 'Kowloon', 'Kwun Tong', 'Kwai Chung',\n",
       "       'Zhuhai', 'Fo Tan', 'Wan Chai', 'Ngau Chi Wan', 'Rome', 'Tyumen',\n",
       "       'Zabaikalsky', 'York', 'London', 'UK', 'Nortern Ireland', 'Wales',\n",
       "       'Kerala', 'Alappuzha', 'Manila', 'Phillipines', 'Lapland',\n",
       "       'Canary Islands', 'Mallorca', 'Tenerife', 'Barcelona', 'Madrid',\n",
       "       'Castellon', 'Andalusia', 'Valencia', 'Castile and Leon',\n",
       "       'Zaragoza', 'Jonkoping', 'Belgium', 'Egypt', 'Qom', 'Araq',\n",
       "       'Tehran', 'Guilan', 'Israel', 'Lebanon', 'Kuwait', 'Bahrain',\n",
       "       'Innsbruck', 'Afghanistan', 'Algeria', 'Croatia', 'Bern'],\n",
       "      dtype=object)"
      ]
     },
     "execution_count": 19,
     "metadata": {},
     "output_type": "execute_result"
    }
   ],
   "source": [
    "pd.unique(df_covid['location'])"
   ]
  },
  {
   "cell_type": "code",
   "execution_count": null,
   "metadata": {},
   "outputs": [],
   "source": []
  }
 ],
 "metadata": {
  "kernelspec": {
   "display_name": "Python 3",
   "language": "python",
   "name": "python3"
  },
  "language_info": {
   "codemirror_mode": {
    "name": "ipython",
    "version": 3
   },
   "file_extension": ".py",
   "mimetype": "text/x-python",
   "name": "python",
   "nbconvert_exporter": "python",
   "pygments_lexer": "ipython3",
   "version": "3.8.3"
  }
 },
 "nbformat": 4,
 "nbformat_minor": 4
}
